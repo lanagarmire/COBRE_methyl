{
 "cells": [
  {
   "cell_type": "code",
   "execution_count": 1,
   "id": "df1fe3e0",
   "metadata": {},
   "outputs": [
    {
     "data": {
      "text/html": [
       "<table class=\"dataframe\">\n",
       "<caption>A data.frame: 5 × 5</caption>\n",
       "<thead>\n",
       "\t<tr><th></th><th scope=col>Histidine</th><th scope=col>isoleucine</th><th scope=col>Proline</th><th scope=col>Tryptophan</th><th scope=col>N-Acetyl-l-ornithine</th></tr>\n",
       "\t<tr><th></th><th scope=col>&lt;chr&gt;</th><th scope=col>&lt;chr&gt;</th><th scope=col>&lt;chr&gt;</th><th scope=col>&lt;chr&gt;</th><th scope=col>&lt;chr&gt;</th></tr>\n",
       "</thead>\n",
       "<tbody>\n",
       "\t<tr><th scope=row>MT100</th><td>199.5214545</td><td>329.976084 </td><td>220.6015594</td><td>186.0449429</td><td>10.66143221</td></tr>\n",
       "\t<tr><th scope=row>MT101</th><td>170.5131617</td><td>340.0960639</td><td>157.1215742</td><td>197.1850821</td><td>10.21604782</td></tr>\n",
       "\t<tr><th scope=row>MT102</th><td>226.8144383</td><td>396.1206227</td><td>310.9568648</td><td>209.4854052</td><td>12.39572149</td></tr>\n",
       "\t<tr><th scope=row>MT103</th><td>325.6764327</td><td>332.9902845</td><td>204.61153  </td><td>215.2283662</td><td>13.4115592 </td></tr>\n",
       "\t<tr><th scope=row>MT104</th><td>119.8744238</td><td>328.0224826</td><td>264.8284699</td><td>175.2966251</td><td>7.762612135</td></tr>\n",
       "</tbody>\n",
       "</table>\n"
      ],
      "text/latex": [
       "A data.frame: 5 × 5\n",
       "\\begin{tabular}{r|lllll}\n",
       "  & Histidine & isoleucine & Proline & Tryptophan & N-Acetyl-l-ornithine\\\\\n",
       "  & <chr> & <chr> & <chr> & <chr> & <chr>\\\\\n",
       "\\hline\n",
       "\tMT100 & 199.5214545 & 329.976084  & 220.6015594 & 186.0449429 & 10.66143221\\\\\n",
       "\tMT101 & 170.5131617 & 340.0960639 & 157.1215742 & 197.1850821 & 10.21604782\\\\\n",
       "\tMT102 & 226.8144383 & 396.1206227 & 310.9568648 & 209.4854052 & 12.39572149\\\\\n",
       "\tMT103 & 325.6764327 & 332.9902845 & 204.61153   & 215.2283662 & 13.4115592 \\\\\n",
       "\tMT104 & 119.8744238 & 328.0224826 & 264.8284699 & 175.2966251 & 7.762612135\\\\\n",
       "\\end{tabular}\n"
      ],
      "text/markdown": [
       "\n",
       "A data.frame: 5 × 5\n",
       "\n",
       "| <!--/--> | Histidine &lt;chr&gt; | isoleucine &lt;chr&gt; | Proline &lt;chr&gt; | Tryptophan &lt;chr&gt; | N-Acetyl-l-ornithine &lt;chr&gt; |\n",
       "|---|---|---|---|---|---|\n",
       "| MT100 | 199.5214545 | 329.976084  | 220.6015594 | 186.0449429 | 10.66143221 |\n",
       "| MT101 | 170.5131617 | 340.0960639 | 157.1215742 | 197.1850821 | 10.21604782 |\n",
       "| MT102 | 226.8144383 | 396.1206227 | 310.9568648 | 209.4854052 | 12.39572149 |\n",
       "| MT103 | 325.6764327 | 332.9902845 | 204.61153   | 215.2283662 | 13.4115592  |\n",
       "| MT104 | 119.8744238 | 328.0224826 | 264.8284699 | 175.2966251 | 7.762612135 |\n",
       "\n"
      ],
      "text/plain": [
       "      Histidine   isoleucine  Proline     Tryptophan  N-Acetyl-l-ornithine\n",
       "MT100 199.5214545 329.976084  220.6015594 186.0449429 10.66143221         \n",
       "MT101 170.5131617 340.0960639 157.1215742 197.1850821 10.21604782         \n",
       "MT102 226.8144383 396.1206227 310.9568648 209.4854052 12.39572149         \n",
       "MT103 325.6764327 332.9902845 204.61153   215.2283662 13.4115592          \n",
       "MT104 119.8744238 328.0224826 264.8284699 175.2966251 7.762612135         "
      ]
     },
     "metadata": {},
     "output_type": "display_data"
    },
    {
     "data": {
      "text/html": [
       "<table class=\"dataframe\">\n",
       "<caption>A data.frame: 5 × 5</caption>\n",
       "<thead>\n",
       "\t<tr><th></th><th scope=col>C10</th><th scope=col>C10:1</th><th scope=col>C10:2</th><th scope=col>C12</th><th scope=col>C12:1</th></tr>\n",
       "\t<tr><th></th><th scope=col>&lt;chr&gt;</th><th scope=col>&lt;chr&gt;</th><th scope=col>&lt;chr&gt;</th><th scope=col>&lt;chr&gt;</th><th scope=col>&lt;chr&gt;</th></tr>\n",
       "</thead>\n",
       "<tbody>\n",
       "\t<tr><th scope=row>MT100</th><td>3.487717086</td><td>7.396418785</td><td>5.38380947 </td><td>4.66393533 </td><td>5.099656043</td></tr>\n",
       "\t<tr><th scope=row>MT101</th><td>3.272812472</td><td>3.962517161</td><td>5.187564604</td><td>2.176516924</td><td>6.051601605</td></tr>\n",
       "\t<tr><th scope=row>MT102</th><td>1.711097989</td><td>2.59804402 </td><td>2.87343601 </td><td>2.049656873</td><td>4.160477977</td></tr>\n",
       "\t<tr><th scope=row>MT103</th><td>1.962029458</td><td>5.273006144</td><td>5.290189357</td><td>1.896116725</td><td>8.17654506 </td></tr>\n",
       "\t<tr><th scope=row>MT104</th><td>1.995360227</td><td>4.484989443</td><td>5.356643427</td><td>1.627367318</td><td>8.882823201</td></tr>\n",
       "</tbody>\n",
       "</table>\n"
      ],
      "text/latex": [
       "A data.frame: 5 × 5\n",
       "\\begin{tabular}{r|lllll}\n",
       "  & C10 & C10:1 & C10:2 & C12 & C12:1\\\\\n",
       "  & <chr> & <chr> & <chr> & <chr> & <chr>\\\\\n",
       "\\hline\n",
       "\tMT100 & 3.487717086 & 7.396418785 & 5.38380947  & 4.66393533  & 5.099656043\\\\\n",
       "\tMT101 & 3.272812472 & 3.962517161 & 5.187564604 & 2.176516924 & 6.051601605\\\\\n",
       "\tMT102 & 1.711097989 & 2.59804402  & 2.87343601  & 2.049656873 & 4.160477977\\\\\n",
       "\tMT103 & 1.962029458 & 5.273006144 & 5.290189357 & 1.896116725 & 8.17654506 \\\\\n",
       "\tMT104 & 1.995360227 & 4.484989443 & 5.356643427 & 1.627367318 & 8.882823201\\\\\n",
       "\\end{tabular}\n"
      ],
      "text/markdown": [
       "\n",
       "A data.frame: 5 × 5\n",
       "\n",
       "| <!--/--> | C10 &lt;chr&gt; | C10:1 &lt;chr&gt; | C10:2 &lt;chr&gt; | C12 &lt;chr&gt; | C12:1 &lt;chr&gt; |\n",
       "|---|---|---|---|---|---|\n",
       "| MT100 | 3.487717086 | 7.396418785 | 5.38380947  | 4.66393533  | 5.099656043 |\n",
       "| MT101 | 3.272812472 | 3.962517161 | 5.187564604 | 2.176516924 | 6.051601605 |\n",
       "| MT102 | 1.711097989 | 2.59804402  | 2.87343601  | 2.049656873 | 4.160477977 |\n",
       "| MT103 | 1.962029458 | 5.273006144 | 5.290189357 | 1.896116725 | 8.17654506  |\n",
       "| MT104 | 1.995360227 | 4.484989443 | 5.356643427 | 1.627367318 | 8.882823201 |\n",
       "\n"
      ],
      "text/plain": [
       "      C10         C10:1       C10:2       C12         C12:1      \n",
       "MT100 3.487717086 7.396418785 5.38380947  4.66393533  5.099656043\n",
       "MT101 3.272812472 3.962517161 5.187564604 2.176516924 6.051601605\n",
       "MT102 1.711097989 2.59804402  2.87343601  2.049656873 4.160477977\n",
       "MT103 1.962029458 5.273006144 5.290189357 1.896116725 8.17654506 \n",
       "MT104 1.995360227 4.484989443 5.356643427 1.627367318 8.882823201"
      ]
     },
     "metadata": {},
     "output_type": "display_data"
    },
    {
     "data": {
      "text/html": [
       "<table class=\"dataframe\">\n",
       "<caption>A data.frame: 5 × 5</caption>\n",
       "<thead>\n",
       "\t<tr><th></th><th scope=col>X1.5.Anhydrosorbitol</th><th scope=col>X2.Hydroxy.3.methylbutyric.acid</th><th scope=col>X2.Hydroxybutyric.acid</th><th scope=col>X2.Hydroxypyridine</th><th scope=col>X2.Phenylglycine</th></tr>\n",
       "\t<tr><th></th><th scope=col>&lt;dbl&gt;</th><th scope=col>&lt;dbl&gt;</th><th scope=col>&lt;dbl&gt;</th><th scope=col>&lt;dbl&gt;</th><th scope=col>&lt;dbl&gt;</th></tr>\n",
       "</thead>\n",
       "<tbody>\n",
       "\t<tr><th scope=row>MT100</th><td>232.4447</td><td>50.376858</td><td>20.23757</td><td> 178.90520</td><td> 1.936107</td></tr>\n",
       "\t<tr><th scope=row>MT101</th><td>193.1995</td><td>19.362223</td><td>12.69819</td><td>  78.85029</td><td> 5.098673</td></tr>\n",
       "\t<tr><th scope=row>MT102</th><td>327.5160</td><td> 2.052467</td><td>16.17661</td><td> 101.22388</td><td> 5.322367</td></tr>\n",
       "\t<tr><th scope=row>MT103</th><td>438.2202</td><td>19.946243</td><td>45.27547</td><td> 215.26278</td><td> 7.343324</td></tr>\n",
       "\t<tr><th scope=row>MT104</th><td>769.2330</td><td> 5.896177</td><td>33.82637</td><td>1078.44110</td><td>87.309961</td></tr>\n",
       "</tbody>\n",
       "</table>\n"
      ],
      "text/latex": [
       "A data.frame: 5 × 5\n",
       "\\begin{tabular}{r|lllll}\n",
       "  & X1.5.Anhydrosorbitol & X2.Hydroxy.3.methylbutyric.acid & X2.Hydroxybutyric.acid & X2.Hydroxypyridine & X2.Phenylglycine\\\\\n",
       "  & <dbl> & <dbl> & <dbl> & <dbl> & <dbl>\\\\\n",
       "\\hline\n",
       "\tMT100 & 232.4447 & 50.376858 & 20.23757 &  178.90520 &  1.936107\\\\\n",
       "\tMT101 & 193.1995 & 19.362223 & 12.69819 &   78.85029 &  5.098673\\\\\n",
       "\tMT102 & 327.5160 &  2.052467 & 16.17661 &  101.22388 &  5.322367\\\\\n",
       "\tMT103 & 438.2202 & 19.946243 & 45.27547 &  215.26278 &  7.343324\\\\\n",
       "\tMT104 & 769.2330 &  5.896177 & 33.82637 & 1078.44110 & 87.309961\\\\\n",
       "\\end{tabular}\n"
      ],
      "text/markdown": [
       "\n",
       "A data.frame: 5 × 5\n",
       "\n",
       "| <!--/--> | X1.5.Anhydrosorbitol &lt;dbl&gt; | X2.Hydroxy.3.methylbutyric.acid &lt;dbl&gt; | X2.Hydroxybutyric.acid &lt;dbl&gt; | X2.Hydroxypyridine &lt;dbl&gt; | X2.Phenylglycine &lt;dbl&gt; |\n",
       "|---|---|---|---|---|---|\n",
       "| MT100 | 232.4447 | 50.376858 | 20.23757 |  178.90520 |  1.936107 |\n",
       "| MT101 | 193.1995 | 19.362223 | 12.69819 |   78.85029 |  5.098673 |\n",
       "| MT102 | 327.5160 |  2.052467 | 16.17661 |  101.22388 |  5.322367 |\n",
       "| MT103 | 438.2202 | 19.946243 | 45.27547 |  215.26278 |  7.343324 |\n",
       "| MT104 | 769.2330 |  5.896177 | 33.82637 | 1078.44110 | 87.309961 |\n",
       "\n"
      ],
      "text/plain": [
       "      X1.5.Anhydrosorbitol X2.Hydroxy.3.methylbutyric.acid\n",
       "MT100 232.4447             50.376858                      \n",
       "MT101 193.1995             19.362223                      \n",
       "MT102 327.5160              2.052467                      \n",
       "MT103 438.2202             19.946243                      \n",
       "MT104 769.2330              5.896177                      \n",
       "      X2.Hydroxybutyric.acid X2.Hydroxypyridine X2.Phenylglycine\n",
       "MT100 20.23757                178.90520          1.936107       \n",
       "MT101 12.69819                 78.85029          5.098673       \n",
       "MT102 16.17661                101.22388          5.322367       \n",
       "MT103 45.27547                215.26278          7.343324       \n",
       "MT104 33.82637               1078.44110         87.309961       "
      ]
     },
     "metadata": {},
     "output_type": "display_data"
    },
    {
     "data": {
      "text/html": [
       "<style>\n",
       ".list-inline {list-style: none; margin:0; padding: 0}\n",
       ".list-inline>li {display: inline-block}\n",
       ".list-inline>li:not(:last-child)::after {content: \"\\00b7\"; padding: 0 .5ex}\n",
       "</style>\n",
       "<ol class=list-inline><li>30</li><li>11</li></ol>\n"
      ],
      "text/latex": [
       "\\begin{enumerate*}\n",
       "\\item 30\n",
       "\\item 11\n",
       "\\end{enumerate*}\n"
      ],
      "text/markdown": [
       "1. 30\n",
       "2. 11\n",
       "\n",
       "\n"
      ],
      "text/plain": [
       "[1] 30 11"
      ]
     },
     "metadata": {},
     "output_type": "display_data"
    },
    {
     "data": {
      "text/html": [
       "<style>\n",
       ".list-inline {list-style: none; margin:0; padding: 0}\n",
       ".list-inline>li {display: inline-block}\n",
       ".list-inline>li:not(:last-child)::after {content: \"\\00b7\"; padding: 0 .5ex}\n",
       "</style>\n",
       "<ol class=list-inline><li>30</li><li>140</li></ol>\n"
      ],
      "text/latex": [
       "\\begin{enumerate*}\n",
       "\\item 30\n",
       "\\item 140\n",
       "\\end{enumerate*}\n"
      ],
      "text/markdown": [
       "1. 30\n",
       "2. 140\n",
       "\n",
       "\n"
      ],
      "text/plain": [
       "[1]  30 140"
      ]
     },
     "metadata": {},
     "output_type": "display_data"
    },
    {
     "data": {
      "text/html": [
       "<style>\n",
       ".list-inline {list-style: none; margin:0; padding: 0}\n",
       ".list-inline>li {display: inline-block}\n",
       ".list-inline>li:not(:last-child)::after {content: \"\\00b7\"; padding: 0 .5ex}\n",
       "</style>\n",
       "<ol class=list-inline><li>30</li><li>108</li></ol>\n"
      ],
      "text/latex": [
       "\\begin{enumerate*}\n",
       "\\item 30\n",
       "\\item 108\n",
       "\\end{enumerate*}\n"
      ],
      "text/markdown": [
       "1. 30\n",
       "2. 108\n",
       "\n",
       "\n"
      ],
      "text/plain": [
       "[1]  30 108"
      ]
     },
     "metadata": {},
     "output_type": "display_data"
    },
    {
     "data": {
      "text/html": [
       "<style>\n",
       ".list-inline {list-style: none; margin:0; padding: 0}\n",
       ".list-inline>li {display: inline-block}\n",
       ".list-inline>li:not(:last-child)::after {content: \"\\00b7\"; padding: 0 .5ex}\n",
       "</style>\n",
       "<ol class=list-inline><li>30</li><li>259</li></ol>\n"
      ],
      "text/latex": [
       "\\begin{enumerate*}\n",
       "\\item 30\n",
       "\\item 259\n",
       "\\end{enumerate*}\n"
      ],
      "text/markdown": [
       "1. 30\n",
       "2. 259\n",
       "\n",
       "\n"
      ],
      "text/plain": [
       "[1]  30 259"
      ]
     },
     "metadata": {},
     "output_type": "display_data"
    }
   ],
   "source": [
    "batch3_aa = read.csv(\"AA_3rd_batch_final20190227.csv\")\n",
    "colnames(batch3_aa) = batch3_aa[1,]\n",
    "batch3_aa = batch3_aa[-c(1),]\n",
    "rownames(batch3_aa) = batch3_aa[,1]\n",
    "batch3_aa = batch3_aa[,-c(1)]\n",
    "# Fix the data format, rowname and colname\n",
    "batch3_lipid = read.csv('lipids_3rd_batch_final 20190227.csv')\n",
    "batch3_lipid = batch3_lipid[-c(2:14),]\n",
    "colnames(batch3_lipid) = batch3_lipid[1,]\n",
    "batch3_lipid = batch3_lipid[-c(1),]\n",
    "rownames(batch3_lipid) = batch3_lipid[,1]\n",
    "batch3_lipid = batch3_lipid[,-c(1)]\n",
    "batch3_untar = read.csv('Untargeted_B3.csv')\n",
    "rownames(batch3_untar) = batch3_untar[,1]\n",
    "batch3_untar = batch3_untar[,-c(1)]\n",
    "dim(batch3_aa)\n",
    "dim(batch3_lipid)\n",
    "dim(batch3_untar)\n",
    "merged_batch3 = merge(batch3_aa, batch3_lipid, by = 'row.names')\n",
    "# Only keep the rows with the same row name and combine the columns\n",
    "# Merge can only merge 3 dataframes at the same time\n",
    "rownames(merged_batch3) = merged_batch3$Row.names\n",
    "merged_batch3 = merged_batch3[,-c(1)]\n",
    "# Delete the redundant rowname column\n",
    "merged_batch3 = merge(merged_batch3,batch3_untar, by = 'row.names')\n",
    "rownames(merged_batch3) = merged_batch3$Row.names\n",
    "merged_batch3 = merged_batch3[,-c(1)]\n",
    "dim(merged_batch3)\n",
    "# Correct dimension should be 30 259 \n",
    "# Merged batch 3 was corrected due to different data version"
   ]
  },
  {
   "cell_type": "code",
   "execution_count": 3,
   "id": "5d020e70",
   "metadata": {},
   "outputs": [
    {
     "data": {
      "text/html": [
       "<style>\n",
       ".list-inline {list-style: none; margin:0; padding: 0}\n",
       ".list-inline>li {display: inline-block}\n",
       ".list-inline>li:not(:last-child)::after {content: \"\\00b7\"; padding: 0 .5ex}\n",
       "</style>\n",
       "<ol class=list-inline><li>185</li><li>6</li></ol>\n"
      ],
      "text/latex": [
       "\\begin{enumerate*}\n",
       "\\item 185\n",
       "\\item 6\n",
       "\\end{enumerate*}\n"
      ],
      "text/markdown": [
       "1. 185\n",
       "2. 6\n",
       "\n",
       "\n"
      ],
      "text/plain": [
       "[1] 185   6"
      ]
     },
     "metadata": {},
     "output_type": "display_data"
    },
    {
     "data": {
      "text/html": [
       "<table class=\"dataframe\">\n",
       "<caption>A data.frame: 5 × 185</caption>\n",
       "<thead>\n",
       "\t<tr><th></th><th scope=col>Alpha.Lactose</th><th scope=col>Arachidonic.acid</th><th scope=col>Benzoic.acid</th><th scope=col>Beta.Alanine</th><th scope=col>C10</th><th scope=col>C10:1</th><th scope=col>C10:2</th><th scope=col>C12</th><th scope=col>C12-DC</th><th scope=col>C12:1</th><th scope=col>⋯</th><th scope=col>Stearic.acid</th><th scope=col>Taurine</th><th scope=col>Tryptophan</th><th scope=col>Uric.acid</th><th scope=col>X1.5.Anhydrosorbitol</th><th scope=col>X2.Hydroxy.3.methylbutyric.acid</th><th scope=col>X2.Hydroxybutyric.acid</th><th scope=col>X2.Hydroxypyridine</th><th scope=col>X3.hydroxypyridine</th><th scope=col>X3.Methyl.2.oxovaleric.acid</th></tr>\n",
       "\t<tr><th></th><th scope=col>&lt;dbl&gt;</th><th scope=col>&lt;dbl&gt;</th><th scope=col>&lt;dbl&gt;</th><th scope=col>&lt;dbl&gt;</th><th scope=col>&lt;chr&gt;</th><th scope=col>&lt;chr&gt;</th><th scope=col>&lt;chr&gt;</th><th scope=col>&lt;chr&gt;</th><th scope=col>&lt;chr&gt;</th><th scope=col>&lt;chr&gt;</th><th scope=col>⋯</th><th scope=col>&lt;dbl&gt;</th><th scope=col>&lt;dbl&gt;</th><th scope=col>&lt;chr&gt;</th><th scope=col>&lt;dbl&gt;</th><th scope=col>&lt;dbl&gt;</th><th scope=col>&lt;dbl&gt;</th><th scope=col>&lt;dbl&gt;</th><th scope=col>&lt;dbl&gt;</th><th scope=col>&lt;dbl&gt;</th><th scope=col>&lt;dbl&gt;</th></tr>\n",
       "</thead>\n",
       "<tbody>\n",
       "\t<tr><th scope=row>MT100</th><td>3.146483</td><td>1.360732</td><td>26.09497</td><td>0.4054309</td><td>3.487717086</td><td>7.396418785</td><td>5.38380947 </td><td>4.66393533 </td><td>1.39652234 </td><td>5.099656043</td><td>⋯</td><td>271.2897</td><td>52.68544</td><td>186.0449429</td><td>102.40981</td><td>232.4447</td><td>50.376858</td><td>20.23757</td><td> 178.90520</td><td>5.313521</td><td>6.366115</td></tr>\n",
       "\t<tr><th scope=row>MT101</th><td>3.146483</td><td>2.439769</td><td>17.15812</td><td>0.4859209</td><td>3.272812472</td><td>3.962517161</td><td>5.187564604</td><td>2.176516924</td><td>0          </td><td>6.051601605</td><td>⋯</td><td>345.2460</td><td>32.48397</td><td>197.1850821</td><td>137.45265</td><td>193.1995</td><td>19.362223</td><td>12.69819</td><td>  78.85029</td><td>4.235719</td><td>3.780005</td></tr>\n",
       "\t<tr><th scope=row>MT102</th><td>2.982544</td><td>1.351183</td><td>31.08815</td><td>0.4412043</td><td>1.711097989</td><td>2.59804402 </td><td>2.87343601 </td><td>2.049656873</td><td>0          </td><td>4.160477977</td><td>⋯</td><td>213.7222</td><td>53.65511</td><td>209.4854052</td><td> 85.14255</td><td>327.5160</td><td> 2.052467</td><td>16.17661</td><td> 101.22388</td><td>5.040926</td><td>5.287247</td></tr>\n",
       "\t<tr><th scope=row>MT103</th><td>3.859763</td><td>1.833407</td><td>30.91323</td><td>0.2086777</td><td>1.962029458</td><td>5.273006144</td><td>5.290189357</td><td>1.896116725</td><td>0          </td><td>8.17654506 </td><td>⋯</td><td>581.5029</td><td>65.45277</td><td>215.2283662</td><td>240.47861</td><td>438.2202</td><td>19.946243</td><td>45.27547</td><td> 215.26278</td><td>7.884309</td><td>5.005630</td></tr>\n",
       "\t<tr><th scope=row>MT104</th><td>6.341860</td><td>2.921993</td><td>47.75331</td><td>0.9599174</td><td>1.995360227</td><td>4.484989443</td><td>5.356643427</td><td>1.627367318</td><td>1.015465786</td><td>8.882823201</td><td>⋯</td><td>331.3822</td><td>41.97866</td><td>175.2966251</td><td>180.02008</td><td>769.2330</td><td> 5.896177</td><td>33.82637</td><td>1078.44110</td><td>7.787852</td><td>7.381520</td></tr>\n",
       "</tbody>\n",
       "</table>\n"
      ],
      "text/latex": [
       "A data.frame: 5 × 185\n",
       "\\begin{tabular}{r|lllllllllllllllllllll}\n",
       "  & Alpha.Lactose & Arachidonic.acid & Benzoic.acid & Beta.Alanine & C10 & C10:1 & C10:2 & C12 & C12-DC & C12:1 & ⋯ & Stearic.acid & Taurine & Tryptophan & Uric.acid & X1.5.Anhydrosorbitol & X2.Hydroxy.3.methylbutyric.acid & X2.Hydroxybutyric.acid & X2.Hydroxypyridine & X3.hydroxypyridine & X3.Methyl.2.oxovaleric.acid\\\\\n",
       "  & <dbl> & <dbl> & <dbl> & <dbl> & <chr> & <chr> & <chr> & <chr> & <chr> & <chr> & ⋯ & <dbl> & <dbl> & <chr> & <dbl> & <dbl> & <dbl> & <dbl> & <dbl> & <dbl> & <dbl>\\\\\n",
       "\\hline\n",
       "\tMT100 & 3.146483 & 1.360732 & 26.09497 & 0.4054309 & 3.487717086 & 7.396418785 & 5.38380947  & 4.66393533  & 1.39652234  & 5.099656043 & ⋯ & 271.2897 & 52.68544 & 186.0449429 & 102.40981 & 232.4447 & 50.376858 & 20.23757 &  178.90520 & 5.313521 & 6.366115\\\\\n",
       "\tMT101 & 3.146483 & 2.439769 & 17.15812 & 0.4859209 & 3.272812472 & 3.962517161 & 5.187564604 & 2.176516924 & 0           & 6.051601605 & ⋯ & 345.2460 & 32.48397 & 197.1850821 & 137.45265 & 193.1995 & 19.362223 & 12.69819 &   78.85029 & 4.235719 & 3.780005\\\\\n",
       "\tMT102 & 2.982544 & 1.351183 & 31.08815 & 0.4412043 & 1.711097989 & 2.59804402  & 2.87343601  & 2.049656873 & 0           & 4.160477977 & ⋯ & 213.7222 & 53.65511 & 209.4854052 &  85.14255 & 327.5160 &  2.052467 & 16.17661 &  101.22388 & 5.040926 & 5.287247\\\\\n",
       "\tMT103 & 3.859763 & 1.833407 & 30.91323 & 0.2086777 & 1.962029458 & 5.273006144 & 5.290189357 & 1.896116725 & 0           & 8.17654506  & ⋯ & 581.5029 & 65.45277 & 215.2283662 & 240.47861 & 438.2202 & 19.946243 & 45.27547 &  215.26278 & 7.884309 & 5.005630\\\\\n",
       "\tMT104 & 6.341860 & 2.921993 & 47.75331 & 0.9599174 & 1.995360227 & 4.484989443 & 5.356643427 & 1.627367318 & 1.015465786 & 8.882823201 & ⋯ & 331.3822 & 41.97866 & 175.2966251 & 180.02008 & 769.2330 &  5.896177 & 33.82637 & 1078.44110 & 7.787852 & 7.381520\\\\\n",
       "\\end{tabular}\n"
      ],
      "text/markdown": [
       "\n",
       "A data.frame: 5 × 185\n",
       "\n",
       "| <!--/--> | Alpha.Lactose &lt;dbl&gt; | Arachidonic.acid &lt;dbl&gt; | Benzoic.acid &lt;dbl&gt; | Beta.Alanine &lt;dbl&gt; | C10 &lt;chr&gt; | C10:1 &lt;chr&gt; | C10:2 &lt;chr&gt; | C12 &lt;chr&gt; | C12-DC &lt;chr&gt; | C12:1 &lt;chr&gt; | ⋯ ⋯ | Stearic.acid &lt;dbl&gt; | Taurine &lt;dbl&gt; | Tryptophan &lt;chr&gt; | Uric.acid &lt;dbl&gt; | X1.5.Anhydrosorbitol &lt;dbl&gt; | X2.Hydroxy.3.methylbutyric.acid &lt;dbl&gt; | X2.Hydroxybutyric.acid &lt;dbl&gt; | X2.Hydroxypyridine &lt;dbl&gt; | X3.hydroxypyridine &lt;dbl&gt; | X3.Methyl.2.oxovaleric.acid &lt;dbl&gt; |\n",
       "|---|---|---|---|---|---|---|---|---|---|---|---|---|---|---|---|---|---|---|---|---|---|\n",
       "| MT100 | 3.146483 | 1.360732 | 26.09497 | 0.4054309 | 3.487717086 | 7.396418785 | 5.38380947  | 4.66393533  | 1.39652234  | 5.099656043 | ⋯ | 271.2897 | 52.68544 | 186.0449429 | 102.40981 | 232.4447 | 50.376858 | 20.23757 |  178.90520 | 5.313521 | 6.366115 |\n",
       "| MT101 | 3.146483 | 2.439769 | 17.15812 | 0.4859209 | 3.272812472 | 3.962517161 | 5.187564604 | 2.176516924 | 0           | 6.051601605 | ⋯ | 345.2460 | 32.48397 | 197.1850821 | 137.45265 | 193.1995 | 19.362223 | 12.69819 |   78.85029 | 4.235719 | 3.780005 |\n",
       "| MT102 | 2.982544 | 1.351183 | 31.08815 | 0.4412043 | 1.711097989 | 2.59804402  | 2.87343601  | 2.049656873 | 0           | 4.160477977 | ⋯ | 213.7222 | 53.65511 | 209.4854052 |  85.14255 | 327.5160 |  2.052467 | 16.17661 |  101.22388 | 5.040926 | 5.287247 |\n",
       "| MT103 | 3.859763 | 1.833407 | 30.91323 | 0.2086777 | 1.962029458 | 5.273006144 | 5.290189357 | 1.896116725 | 0           | 8.17654506  | ⋯ | 581.5029 | 65.45277 | 215.2283662 | 240.47861 | 438.2202 | 19.946243 | 45.27547 |  215.26278 | 7.884309 | 5.005630 |\n",
       "| MT104 | 6.341860 | 2.921993 | 47.75331 | 0.9599174 | 1.995360227 | 4.484989443 | 5.356643427 | 1.627367318 | 1.015465786 | 8.882823201 | ⋯ | 331.3822 | 41.97866 | 175.2966251 | 180.02008 | 769.2330 |  5.896177 | 33.82637 | 1078.44110 | 7.787852 | 7.381520 |\n",
       "\n"
      ],
      "text/plain": [
       "      Alpha.Lactose Arachidonic.acid Benzoic.acid Beta.Alanine C10        \n",
       "MT100 3.146483      1.360732         26.09497     0.4054309    3.487717086\n",
       "MT101 3.146483      2.439769         17.15812     0.4859209    3.272812472\n",
       "MT102 2.982544      1.351183         31.08815     0.4412043    1.711097989\n",
       "MT103 3.859763      1.833407         30.91323     0.2086777    1.962029458\n",
       "MT104 6.341860      2.921993         47.75331     0.9599174    1.995360227\n",
       "      C10:1       C10:2       C12         C12-DC      C12:1       ⋯\n",
       "MT100 7.396418785 5.38380947  4.66393533  1.39652234  5.099656043 ⋯\n",
       "MT101 3.962517161 5.187564604 2.176516924 0           6.051601605 ⋯\n",
       "MT102 2.59804402  2.87343601  2.049656873 0           4.160477977 ⋯\n",
       "MT103 5.273006144 5.290189357 1.896116725 0           8.17654506  ⋯\n",
       "MT104 4.484989443 5.356643427 1.627367318 1.015465786 8.882823201 ⋯\n",
       "      Stearic.acid Taurine  Tryptophan  Uric.acid X1.5.Anhydrosorbitol\n",
       "MT100 271.2897     52.68544 186.0449429 102.40981 232.4447            \n",
       "MT101 345.2460     32.48397 197.1850821 137.45265 193.1995            \n",
       "MT102 213.7222     53.65511 209.4854052  85.14255 327.5160            \n",
       "MT103 581.5029     65.45277 215.2283662 240.47861 438.2202            \n",
       "MT104 331.3822     41.97866 175.2966251 180.02008 769.2330            \n",
       "      X2.Hydroxy.3.methylbutyric.acid X2.Hydroxybutyric.acid X2.Hydroxypyridine\n",
       "MT100 50.376858                       20.23757                178.90520        \n",
       "MT101 19.362223                       12.69819                 78.85029        \n",
       "MT102  2.052467                       16.17661                101.22388        \n",
       "MT103 19.946243                       45.27547                215.26278        \n",
       "MT104  5.896177                       33.82637               1078.44110        \n",
       "      X3.hydroxypyridine X3.Methyl.2.oxovaleric.acid\n",
       "MT100 5.313521           6.366115                   \n",
       "MT101 4.235719           3.780005                   \n",
       "MT102 5.040926           5.287247                   \n",
       "MT103 7.884309           5.005630                   \n",
       "MT104 7.787852           7.381520                   "
      ]
     },
     "metadata": {},
     "output_type": "display_data"
    },
    {
     "data": {
      "text/html": [
       "<style>\n",
       ".list-inline {list-style: none; margin:0; padding: 0}\n",
       ".list-inline>li {display: inline-block}\n",
       ".list-inline>li:not(:last-child)::after {content: \"\\00b7\"; padding: 0 .5ex}\n",
       "</style>\n",
       "<ol class=list-inline><li>30</li><li>185</li></ol>\n"
      ],
      "text/latex": [
       "\\begin{enumerate*}\n",
       "\\item 30\n",
       "\\item 185\n",
       "\\end{enumerate*}\n"
      ],
      "text/markdown": [
       "1. 30\n",
       "2. 185\n",
       "\n",
       "\n"
      ],
      "text/plain": [
       "[1]  30 185"
      ]
     },
     "metadata": {},
     "output_type": "display_data"
    }
   ],
   "source": [
    "rename_df = read.csv(\"/nfs/dcmb-lgarmire/yhdu/COBRE Final Documents/meta_analysis/common_batch123_renaming_ref.csv\")\n",
    "dim(rename_df)\n",
    "# Change the name\n",
    "merged_batch3 = merged_batch3[,rename_df$batch3]\n",
    "# Sort the merged_batch3 in the order of the rename file\n",
    "colnames(merged_batch3) = rename_df$rename\n",
    "# Do the renaming of the merged batch3\n",
    "merged_batch3[1:5,]\n",
    "dim(merged_batch3)\n",
    "#Correct dimension should be 30 185"
   ]
  },
  {
   "cell_type": "code",
   "execution_count": 4,
   "id": "ec9710a3",
   "metadata": {},
   "outputs": [
    {
     "name": "stdout",
     "output_type": "stream",
     "text": [
      "'data.frame':\t30 obs. of  185 variables:\n",
      " $ Alpha.Lactose                  : num  3.15 3.15 2.98 3.86 6.34 ...\n",
      " $ Arachidonic.acid               : num  1.36 2.44 1.35 1.83 2.92 ...\n",
      " $ Benzoic.acid                   : num  26.1 17.2 31.1 30.9 47.8 ...\n",
      " $ Beta.Alanine                   : num  0.405 0.486 0.441 0.209 0.96 ...\n",
      " $ C10                            : num  3.49 3.27 1.71 1.96 2 ...\n",
      " $ C10:1                          : num  7.4 3.96 2.6 5.27 4.48 ...\n",
      " $ C10:2                          : num  5.38 5.19 2.87 5.29 5.36 ...\n",
      " $ C12                            : num  4.66 2.18 2.05 1.9 1.63 ...\n",
      " $ C12-DC                         : num  1.4 0 0 0 1.02 ...\n",
      " $ C12:1                          : num  5.1 6.05 4.16 8.18 8.88 ...\n",
      " $ C14                            : num  16.9 0 NA 11.3 14.6 ...\n",
      " $ C14:1                          : num  7.63 10.99 NA 9.13 8.02 ...\n",
      " $ C14:1-OH                       : num  7.02 5.81 NA 3.6 5.98 ...\n",
      " $ C14:2                          : num  11.55 11.57 NA 8.48 7.48 ...\n",
      " $ C14:2-OH                       : num  5.62 2.94 NA 4.58 2.04 ...\n",
      " $ C16                            : num  13.2 19 NA 15.7 16.2 ...\n",
      " $ C16:1                          : num  4.13 11.21 NA 8.98 4.77 ...\n",
      " $ C16:1-OH                       : num  33.3 30.3 NA 28.3 19.6 ...\n",
      " $ C16-OH                         : num  2.68 2.87 NA 1.65 2.27 ...\n",
      " $ C16:2                          : num  9.81 5.6 NA 12.89 6.87 ...\n",
      " $ C16:2-OH                       : num  9.2 7.28 NA 11.6 10.62 ...\n",
      " $ C18                            : num  1.24 1.67 1.79 1.48 4.89 ...\n",
      " $ C18:1                          : num  11.69 12.91 8.63 6.32 24.97 ...\n",
      " $ C18:1-OH                       : num  5.78 2.52 3.34 4.44 5.51 ...\n",
      " $ C18:2                          : num  19.2 20.5 19.6 24.5 57.7 ...\n",
      " $ C2                             : num  1.4 3.17 3.01 1.52 1.5 ...\n",
      " $ C3                             : num  1.24 1.48 0 1.16 2.48 ...\n",
      " $ C3-DC (C4-OH)                  : num  0.726 0.894 1.229 0.75 0.89 ...\n",
      " $ C3:1                           : num  0.1306 0 0.2931 0.0997 0.2948 ...\n",
      " $ C3-OH                          : num  0.375 0.202 0.289 0.282 0 ...\n",
      " $ C4                             : num  2.1 3.05 3.49 1.99 5.53 ...\n",
      " $ C4:1                           : num  0.248 0.301 0 0.192 0 ...\n",
      " $ C5                             : num  2.82 0 3.54 3.52 0 ...\n",
      " $ C5:1                           : num  1.45 1.36 1.445 1.74 0.849 ...\n",
      " $ C5:1-DC                        : num  0.45 0.464 0.411 0.609 0.169 ...\n",
      " $ C5-DC (C6-OH)                  : num  3.16 3.91 2.85 6.03 2.08 ...\n",
      " $ C5-M-DC                        : num  7.3 6.72 5.89 6.74 4.7 ...\n",
      " $ C5-OH (C3-DC-M)                : num  7.43 8.94 4.08 9.16 3.42 ...\n",
      " $ C6 (C4:1-DC)                   : num  0.979 0.534 0.451 0.582 0.27 ...\n",
      " $ C6:1                           : num  0.0207 0.0267 0.0183 0.0257 0.0156 ...\n",
      " $ C7-DC                          : num  1.564 1.486 0.822 0.797 1.026 ...\n",
      " $ C8                             : num  0.1393 0.12 0.1124 0.1001 0.0916 ...\n",
      " $ C9                             : num  0.456 0.505 0.192 0.567 0.601 ...\n",
      " $ Citric.acid                    : num  475 465 592 1236 25829 ...\n",
      " $ Carnosine                      : num  62.5 71.4 48.5 29 120.2 ...\n",
      " $ D.2.Hydroxyglutaric.acid       : num  2.7 4.03 2.07 1.91 8.62 ...\n",
      " $ D.Galactose                    : num  6410 2402 4944 5885 12315 ...\n",
      " $ D.Glucose                      : num  3439.2 142.8 97.9 341.8 4689.1 ...\n",
      " $ D.Xylose                       : num  9.61 2.88 50.29 17.89 12.38 ...\n",
      " $ D.Threitol                     : num  6.45 3.33 3.88 42.68 46.3 ...\n",
      " $ Docosahexaenoic.acid           : num  1.68 3.16 1.89 2.69 2.78 ...\n",
      " $ Dodecanoic.acid                : num  1.94 2.24 2.8 3.13 3.47 ...\n",
      " $ Erythrose                      : num  3117 172 3384 610 142 ...\n",
      " $ Fumaric.acid                   : num  0.742 1.325 0.77 1.275 3.754 ...\n",
      " $ Galactonic.acid                : num  0.228 0 0.252 0 0.927 ...\n",
      " $ Glutaric.acid                  : num  12.32 7.9 7.75 13.38 15.32 ...\n",
      " $ Glyceric.acid                  : num  6.61 1.98 6.07 13.75 24.82 ...\n",
      " $ Glycerol                       : num  346 213 260 456 1973 ...\n",
      " $ Glycerol.3.phosphate           : num  0.607 0.995 0.444 0.496 3.525 ...\n",
      " $ Glycine                        : num  71.8 97.8 65.9 187.3 429.9 ...\n",
      " $ Glycolic.acid                  : num  22 12 17.6 92.9 149.2 ...\n",
      " $ Histidine                      : num  200 171 227 326 120 ...\n",
      " $ Indoxyl.sulfate                : num  0.364 1.029 0.565 0.39 3.995 ...\n",
      " $ Isocitric.acid                 : num  1047 1176 1039 2810 12563 ...\n",
      " $ isoleucine                     : num  330 340 396 333 328 ...\n",
      " $ Kynurenine                     : num  8.81 9.66 11.23 8.48 8.3 ...\n",
      " $ L.Alanine                      : num  205 147 295 149 323 ...\n",
      " $ L.Arabitol                     : num  1.58 3.72 2.86 3.93 10.9 ...\n",
      " $ L.Arginine                     : num  6.54 6.95 5.99 2.84 15.83 ...\n",
      " $ L.Asparagine                   : num  1.48 2.68 1.33 1.08 8.23 ...\n",
      " $ L.Aspartic.acid                : num  14 12 13 21 23.3 ...\n",
      " $ L.Cysteine                     : num  4.62 25.22 8.81 7.44 43.17 ...\n",
      " $ L.Cystine                      : num  14.3 16.4 27.1 30.3 48.5 ...\n",
      " $ L.Glutamic.acid                : num  4 2.42 5.38 6.79 5.69 ...\n",
      " $ L.Glutamine                    : num  43.57 27.76 134.36 4.35 242.05 ...\n",
      " $ L.Leucine                      : num  122 137 126 414 354 ...\n",
      " $ L.Methionine                   : num  10.3 4.25 8.22 62.2 35.67 ...\n",
      " $ L.Phenylalanine                : num  65.8 78.3 53.2 161.2 101.9 ...\n",
      " $ L.Serine                       : num  87.6 53.4 89.6 657.2 541.2 ...\n",
      " $ L.Sorbose                      : num  279.6 18.3 24.8 44.8 480.4 ...\n",
      " $ L.Threonine                    : num  53.4 38.4 45.8 108.2 260.8 ...\n",
      " $ L.Tyrosine                     : num  515 305 449 582 908 ...\n",
      " $ L.Valine                       : num  228 264 250 629 396 ...\n",
      " $ Linoleic.acid                  : num  19.5 11.6 20.3 29.4 30 ...\n",
      " $ Maleic.acid                    : num  19.1 13.4 19.7 26 30 ...\n",
      " $ Malic.acid                     : num  5.9 1.03 4.53 16.79 39.06 ...\n",
      " $ Mannitol                       : num  428 360 101 921 2894 ...\n",
      " $ Methionine sulfoxide           : num  1.81 4.16 4.76 3.92 3.26 ...\n",
      " $ Methylcysteine                 : num  1.32 2.53 1.23 1.54 1.61 ...\n",
      " $ Myoinositol                    : num  37.7 49.7 67.9 130.5 258.1 ...\n",
      " $ N-Acetyl-l-ornithine           : num  10.66 10.22 12.4 13.41 7.76 ...\n",
      " $ Oleic.acid                     : num  6.01 6.85 6.57 12.09 13.38 ...\n",
      " $ Palmitic.acid                  : num  552 231 581 597 1009 ...\n",
      " $ PC aa C24:0                    : num  133 110 144 118 126 ...\n",
      " $ PC aa C26:0                    : num  311 270 297 317 295 ...\n",
      " $ PC aa C28:1                    : num  48.5 59.5 58.3 37.5 29.3 ...\n",
      " $ PC aa C30:0                    : num  104.3 154.7 124 96.2 62 ...\n",
      " $ PC aa C32:0                    : num  6048 8328 8787 9686 5553 ...\n",
      " $ PC aa C32:1                    : num  2020 2374 2723 2966 1609 ...\n",
      "  [list output truncated]\n"
     ]
    }
   ],
   "source": [
    "merged_batch3[]<-lapply(merged_batch3,function(x) as.double(as.character(x)))\n",
    "str(merged_batch3)        \n",
    "# Change all the metabolite type into double so that the NA can be calculated"
   ]
  },
  {
   "cell_type": "code",
   "execution_count": 5,
   "id": "b64ff500",
   "metadata": {},
   "outputs": [],
   "source": [
    "merged_batch12=readRDS('/nfs/dcmb-lgarmire/yhdu/COBRE Final Documents/meta_analysis/metabolomics_data_merged_batch12_raw_combined2018.rds')"
   ]
  },
  {
   "cell_type": "code",
   "execution_count": 6,
   "id": "1b127c5b",
   "metadata": {
    "scrolled": true
   },
   "outputs": [
    {
     "data": {
      "text/html": [
       "<table class=\"dataframe\">\n",
       "<caption>A data.frame: 5 × 5</caption>\n",
       "<thead>\n",
       "\t<tr><th></th><th scope=col>Alpha.Lactose</th><th scope=col>Arachidonic.acid</th><th scope=col>Benzoic.acid</th><th scope=col>Beta.Alanine</th><th scope=col>C10</th></tr>\n",
       "\t<tr><th></th><th scope=col>&lt;dbl&gt;</th><th scope=col>&lt;dbl&gt;</th><th scope=col>&lt;dbl&gt;</th><th scope=col>&lt;dbl&gt;</th><th scope=col>&lt;dbl&gt;</th></tr>\n",
       "</thead>\n",
       "<tbody>\n",
       "\t<tr><th scope=row>MT12</th><td>10.571429</td><td> 6.261905</td><td>268.85714</td><td> 4.666667</td><td>0.3826790</td></tr>\n",
       "\t<tr><th scope=row>MT13</th><td> 0.000000</td><td> 8.283333</td><td> 30.21667</td><td> 4.583333</td><td>       NA</td></tr>\n",
       "\t<tr><th scope=row>MT15</th><td>11.171429</td><td>10.028571</td><td>247.00000</td><td> 8.114286</td><td>4.5152363</td></tr>\n",
       "\t<tr><th scope=row>MT16</th><td> 4.980392</td><td> 8.029412</td><td>100.88235</td><td> 7.156863</td><td>0.8644403</td></tr>\n",
       "\t<tr><th scope=row>MT18</th><td>10.872340</td><td> 3.723404</td><td>158.25532</td><td>14.425532</td><td>3.8847311</td></tr>\n",
       "</tbody>\n",
       "</table>\n"
      ],
      "text/latex": [
       "A data.frame: 5 × 5\n",
       "\\begin{tabular}{r|lllll}\n",
       "  & Alpha.Lactose & Arachidonic.acid & Benzoic.acid & Beta.Alanine & C10\\\\\n",
       "  & <dbl> & <dbl> & <dbl> & <dbl> & <dbl>\\\\\n",
       "\\hline\n",
       "\tMT12 & 10.571429 &  6.261905 & 268.85714 &  4.666667 & 0.3826790\\\\\n",
       "\tMT13 &  0.000000 &  8.283333 &  30.21667 &  4.583333 &        NA\\\\\n",
       "\tMT15 & 11.171429 & 10.028571 & 247.00000 &  8.114286 & 4.5152363\\\\\n",
       "\tMT16 &  4.980392 &  8.029412 & 100.88235 &  7.156863 & 0.8644403\\\\\n",
       "\tMT18 & 10.872340 &  3.723404 & 158.25532 & 14.425532 & 3.8847311\\\\\n",
       "\\end{tabular}\n"
      ],
      "text/markdown": [
       "\n",
       "A data.frame: 5 × 5\n",
       "\n",
       "| <!--/--> | Alpha.Lactose &lt;dbl&gt; | Arachidonic.acid &lt;dbl&gt; | Benzoic.acid &lt;dbl&gt; | Beta.Alanine &lt;dbl&gt; | C10 &lt;dbl&gt; |\n",
       "|---|---|---|---|---|---|\n",
       "| MT12 | 10.571429 |  6.261905 | 268.85714 |  4.666667 | 0.3826790 |\n",
       "| MT13 |  0.000000 |  8.283333 |  30.21667 |  4.583333 |        NA |\n",
       "| MT15 | 11.171429 | 10.028571 | 247.00000 |  8.114286 | 4.5152363 |\n",
       "| MT16 |  4.980392 |  8.029412 | 100.88235 |  7.156863 | 0.8644403 |\n",
       "| MT18 | 10.872340 |  3.723404 | 158.25532 | 14.425532 | 3.8847311 |\n",
       "\n"
      ],
      "text/plain": [
       "     Alpha.Lactose Arachidonic.acid Benzoic.acid Beta.Alanine C10      \n",
       "MT12 10.571429      6.261905        268.85714     4.666667    0.3826790\n",
       "MT13  0.000000      8.283333         30.21667     4.583333           NA\n",
       "MT15 11.171429     10.028571        247.00000     8.114286    4.5152363\n",
       "MT16  4.980392      8.029412        100.88235     7.156863    0.8644403\n",
       "MT18 10.872340      3.723404        158.25532    14.425532    3.8847311"
      ]
     },
     "metadata": {},
     "output_type": "display_data"
    },
    {
     "data": {
      "text/html": [
       "<style>\n",
       ".list-inline {list-style: none; margin:0; padding: 0}\n",
       ".list-inline>li {display: inline-block}\n",
       ".list-inline>li:not(:last-child)::after {content: \"\\00b7\"; padding: 0 .5ex}\n",
       "</style>\n",
       "<ol class=list-inline><li>87</li><li>185</li></ol>\n"
      ],
      "text/latex": [
       "\\begin{enumerate*}\n",
       "\\item 87\n",
       "\\item 185\n",
       "\\end{enumerate*}\n"
      ],
      "text/markdown": [
       "1. 87\n",
       "2. 185\n",
       "\n",
       "\n"
      ],
      "text/plain": [
       "[1]  87 185"
      ]
     },
     "metadata": {},
     "output_type": "display_data"
    }
   ],
   "source": [
    "merged123 = rbind(merged_batch12, merged_batch3)\n",
    "merged123[1:5,1:5]\n",
    "dim(merged123)"
   ]
  },
  {
   "cell_type": "code",
   "execution_count": 8,
   "id": "ce609a00",
   "metadata": {},
   "outputs": [
    {
     "name": "stdout",
     "output_type": "stream",
     "text": [
      "'data.frame':\t87 obs. of  185 variables:\n",
      " $ AlphaLactose               : num  10.57 0 11.17 4.98 10.87 ...\n",
      " $ Arachidonicacid            : num  6.26 8.28 10.03 8.03 3.72 ...\n",
      " $ Benzoicacid                : num  268.9 30.2 247 100.9 158.3 ...\n",
      " $ BetaAlanine                : num  4.67 4.58 8.11 7.16 14.43 ...\n",
      " $ C10                        : num  0.383 NA 4.515 0.864 3.885 ...\n",
      " $ C10_1                      : num  0.157 NA 1.127 0.239 0.315 ...\n",
      " $ C10_2                      : num  0.172 NA 0.498 0.359 0.331 ...\n",
      " $ C12                        : num  0.0581 NA 0.634 0.0856 0.1872 ...\n",
      " $ C12_DC                     : num  0 NA 0.253 0.02 0.065 ...\n",
      " $ C12_1                      : num  0.151 NA 1.005 0.18 0.47 ...\n",
      " $ C14                        : num  0.274 0.358 NA NA 0.39 ...\n",
      " $ C14_1                      : num  0.301 0.266 NA NA 0.352 ...\n",
      " $ C14_1_OH                   : num  0.184 0.276 NA NA 0.183 ...\n",
      " $ C14_2                      : num  0.275 0.427 NA NA 0.347 ...\n",
      " $ C14_2_OH                   : num  0.248 0.253 NA NA 0 ...\n",
      " $ C16                        : num  1.75 2.07 NA NA 1.94 ...\n",
      " $ C16_1                      : num  0.281 0.442 NA NA 0.268 ...\n",
      " $ C16_1_OH                   : num  0.259 0.249 NA NA 0.174 ...\n",
      " $ C16_OH                     : num  0.161 0.121 NA NA 0.109 ...\n",
      " $ C16_2                      : num  0.2351 0.158 NA NA 0.0985 ...\n",
      " $ C16_2_OH                   : num  0.174 0.247 NA NA 0.182 ...\n",
      " $ C18                        : num  0.326 0.443 0.756 NA 0.36 ...\n",
      " $ C18_1                      : num  0.456 0.889 0.633 NA 0.597 ...\n",
      " $ C18_1_OH                   : num  0.1158 0.1255 0.1893 NA 0.0761 ...\n",
      " $ C18_2                      : num  0.801 0.645 0.797 NA 0.537 ...\n",
      " $ C2                         : num  17.56 42.47 80.07 20.23 8.88 ...\n",
      " $ C3                         : num  0.139 0.778 1.563 0.531 0.806 ...\n",
      " $ C3_D_C4_OH                 : num  0.0817 0.2327 0.3126 0.1346 0.3167 ...\n",
      " $ C3_1                       : num  0.0131 0.0212 0 0 0 ...\n",
      " $ C3_OH                      : num  0.0323 0.0162 0 0.0211 0.0461 ...\n",
      " $ C4                         : num  0.0557 0.2377 0.2526 0.097 0.1919 ...\n",
      " $ C4_1                       : num  0 0 0.0583 0.0141 0.0664 ...\n",
      " $ C5                         : num  0.0504 0.1715 0.606 0.1833 0.1901 ...\n",
      " $ C5_1                       : num  0.023 0.0373 0.0893 0.0417 0.0422 ...\n",
      " $ C5_1_DC                    : num  0.0385 0.0623 0.1095 0.048 0.067 ...\n",
      " $ C5_D_C6_OH                 : num  0.07 0.0632 0.1299 0.0703 0 ...\n",
      " $ C5_M_DC                    : num  0.0218 0.0199 0.0862 0.0363 0.0606 ...\n",
      " $ C5_OH_C3_DC_M              : num  0.0183 0.0562 0.061 0.0424 0.1238 ...\n",
      " $ C6_C4_1_DC                 : num  0.0534 0.3096 0.0805 0.027 0.1262 ...\n",
      " $ C6_1                       : num  0.0606 0.2681 0.1768 0.0636 0.1272 ...\n",
      " $ C7_DC                      : num  0.0375 0 0.062 0.011 0.0558 ...\n",
      " $ C8                         : num  0.1623 0.1399 0.2126 0.0581 0.2818 ...\n",
      " $ C9                         : num  0.0397 NA 0.4495 0.0617 0.1763 ...\n",
      " $ Citricacid                 : num  43859 35325 51680 12620 39338 ...\n",
      " $ Carnosine                  : num  13.26 14.1 67.6 9.32 49.21 ...\n",
      " $ D2Hydroxyglutaricacid      : num  101.5 26.9 87.7 17.6 71 ...\n",
      " $ DGalactose                 : num  7716 8029 11149 4013 6980 ...\n",
      " $ DGlucose                   : num  27462 20874 31965 11987 21208 ...\n",
      " $ DXylose                    : num  51.5 28.6 58.7 21.8 54.9 ...\n",
      " $ DThreitol                  : num  247.2 113.7 97.6 44.7 261.6 ...\n",
      " $ Docosahexaenoicacid        : num  5.64 3.37 9.97 5.24 0 ...\n",
      " $ Dodecanoicacid             : num  20.2 8.2 24.1 10.8 19.3 ...\n",
      " $ Erythrose                  : num  32.93 7.58 52.66 0 30.87 ...\n",
      " $ Fumaricacid                : num  106.29 116.22 0 0 7.13 ...\n",
      " $ Galactonicacid             : num  0 8.37 0 0 0 ...\n",
      " $ Glutaricacid               : num  33.8 13.7 38.4 16.3 40.1 ...\n",
      " $ Glycericacid               : num  119.2 56.4 130.5 42.6 128.5 ...\n",
      " $ Glycerol                   : num  0 2848 1742 257 676 ...\n",
      " $ Glycerol3phosphate         : num  6.6 4.15 12.57 3.54 6.13 ...\n",
      " $ Glycine                    : num  2039 1595 1841 1398 3199 ...\n",
      " $ Glycolicacid               : num  652 276 480 200 730 ...\n",
      " $ Histidine                  : num  3.26 3.41 3.31 2.96 2.85 ...\n",
      " $ Indoxylsulfate             : num  0 0 6.91 4.29 0 ...\n",
      " $ Isocitricacid              : num  25817 15085 24998 8189 14640 ...\n",
      " $ isoleucine                 : num  3.15 4.45 3.46 0 2.37 ...\n",
      " $ Kynurenine                 : num  0.0963 0.1907 0.1344 0.0953 0.0207 ...\n",
      " $ LAlanine                   : num  2194 2692 3797 1301 3102 ...\n",
      " $ LArabitol                  : num  73.5 29.1 53.3 26.2 62.5 ...\n",
      " $ LArginine                  : num  37.7 26.1 33.2 27.1 108.4 ...\n",
      " $ LAsparagine                : num  37.5 32.5 36.7 34.1 72.3 ...\n",
      " $ LAsparticacid              : num  13.5 26.6 77.3 30 45.9 ...\n",
      " $ LCysteine                  : num  47.2 39.7 42.5 24.9 84.3 ...\n",
      " $ LCystine                   : num  18.7 21 25.9 22.9 18.4 ...\n",
      " $ LGlutamicacid              : num  37.8 39.1 43.6 31.9 100.2 ...\n",
      " $ LGlutamine                 : num  658 532 516 646 875 ...\n",
      " $ LLeucine                   : num  1273 1008 1884 906 2129 ...\n",
      " $ LMethionine                : num  202 104 154 107 287 ...\n",
      " $ LPhenylalanine             : num  359 239 317 204 521 ...\n",
      " $ LSerine                    : num  647 432 487 313 1010 ...\n",
      " $ LSorbose                   : num  4898 19935 5463 14427 5998 ...\n",
      " $ LThreonine                 : num  976 754 943 918 1559 ...\n",
      " $ LTyrosine                  : num  467 342 409 304 909 ...\n",
      " $ LValine                    : num  2009 2158 3451 1571 3582 ...\n",
      " $ Linoleicacid               : num  22.2 11.8 15.1 18.3 25.6 ...\n",
      " $ Maleicacid                 : num  59.5 28.7 56.1 12.9 49.4 ...\n",
      " $ Malicacid                  : num  187.1 110.7 229.2 59.4 158.6 ...\n",
      " $ Mannitol                   : num  225 137 317 127 0 ...\n",
      " $ Methionine_sulfoxide       : num  0.03 0.0385 0.1015 0.0423 0.0227 ...\n",
      " $ Methylcysteine             : num  13.05 7.35 8.26 6.54 19.06 ...\n",
      " $ Myoinositol                : num  423 474 450 320 708 ...\n",
      " $ N_Acetyl_l_ornithine       : num  0.144 0.206 0.194 0.132 0.155 ...\n",
      " $ Oleicacid                  : num  75.02 33.67 48.83 8.58 25.64 ...\n",
      " $ Palmiticacid               : num  546 227 535 251 434 ...\n",
      " $ PC_aa_C24_0                : num  3.52 2.78 4.29 1.51 3.7 ...\n",
      " $ PC_aa_C26_0                : num  8.24 6.8 11.84 3.83 7.5 ...\n",
      " $ PC_aa_C28_1                : num  1.948 1.66 2.182 0.725 1.874 ...\n",
      " $ PC_aa_C30_0                : num  4.13 5 4.9 1.41 4.17 ...\n",
      " $ PC_aa_C32_0                : num  266 295 397 101 356 ...\n",
      " $ PC_aa_C32_1                : num  149 255 280 79 276 ...\n",
      "  [list output truncated]\n"
     ]
    }
   ],
   "source": [
    "merged123 = merged123[,rename_df$rename]\n",
    "colnames(merged123) = rename_df$clean\n",
    "str(merged123)"
   ]
  },
  {
   "cell_type": "code",
   "execution_count": null,
   "id": "0e777653",
   "metadata": {},
   "outputs": [],
   "source": [
    "# Unimputed data is ready, named merged123"
   ]
  },
  {
   "cell_type": "code",
   "execution_count": 9,
   "id": "5910896e",
   "metadata": {},
   "outputs": [],
   "source": [
    "# Run the R code to get the imputated data (imputed_val.csv)"
   ]
  },
  {
   "cell_type": "code",
   "execution_count": 11,
   "id": "4fa02072",
   "metadata": {},
   "outputs": [
    {
     "name": "stderr",
     "output_type": "stream",
     "text": [
      "\n",
      "Attaching package: ‘mice’\n",
      "\n",
      "\n",
      "The following object is masked from ‘package:stats’:\n",
      "\n",
      "    filter\n",
      "\n",
      "\n",
      "The following objects are masked from ‘package:base’:\n",
      "\n",
      "    cbind, rbind\n",
      "\n",
      "\n",
      "Loading required package: ggplot2\n",
      "\n",
      "Warning message:\n",
      "“package ‘ggplot2’ was built under R version 4.3.3”\n",
      "Loading required package: mgcv\n",
      "\n",
      "Warning message:\n",
      "“package ‘mgcv’ was built under R version 4.3.2”\n",
      "Loading required package: nlme\n",
      "\n",
      "This is mgcv 1.9-1. For overview type 'help(\"mgcv-package\")'.\n",
      "\n",
      "Loading required package: genefilter\n",
      "\n",
      "Loading required package: BiocParallel\n",
      "\n",
      "Loading required package: Biobase\n",
      "\n",
      "Loading required package: BiocGenerics\n",
      "\n",
      "\n",
      "Attaching package: ‘BiocGenerics’\n",
      "\n",
      "\n",
      "The following objects are masked from ‘package:mice’:\n",
      "\n",
      "    cbind, rbind\n",
      "\n",
      "\n",
      "The following objects are masked from ‘package:stats’:\n",
      "\n",
      "    IQR, mad, sd, var, xtabs\n",
      "\n",
      "\n",
      "The following objects are masked from ‘package:base’:\n",
      "\n",
      "    anyDuplicated, aperm, append, as.data.frame, basename, cbind,\n",
      "    colnames, dirname, do.call, duplicated, eval, evalq, Filter, Find,\n",
      "    get, grep, grepl, intersect, is.unsorted, lapply, Map, mapply,\n",
      "    match, mget, order, paste, pmax, pmax.int, pmin, pmin.int,\n",
      "    Position, rank, rbind, Reduce, rownames, sapply, setdiff, sort,\n",
      "    table, tapply, union, unique, unsplit, which.max, which.min\n",
      "\n",
      "\n",
      "Welcome to Bioconductor\n",
      "\n",
      "    Vignettes contain introductory material; view with\n",
      "    'browseVignettes()'. To cite Bioconductor, see\n",
      "    'citation(\"Biobase\")', and for packages 'citation(\"pkgname\")'.\n",
      "\n",
      "\n"
     ]
    }
   ],
   "source": [
    "library(mice)\n",
    "library(ggfortify)\n",
    "library(sva)\n",
    "library(\"vsn\")\n",
    "library(mdatools)"
   ]
  },
  {
   "cell_type": "code",
   "execution_count": 10,
   "id": "e4a2e78c",
   "metadata": {},
   "outputs": [
    {
     "data": {
      "text/html": [
       "<table class=\"dataframe\">\n",
       "<caption>A data.frame: 5 × 5</caption>\n",
       "<thead>\n",
       "\t<tr><th></th><th scope=col>AlphaLactose</th><th scope=col>Arachidonicacid</th><th scope=col>Benzoicacid</th><th scope=col>BetaAlanine</th><th scope=col>C10</th></tr>\n",
       "\t<tr><th></th><th scope=col>&lt;dbl&gt;</th><th scope=col>&lt;dbl&gt;</th><th scope=col>&lt;dbl&gt;</th><th scope=col>&lt;dbl&gt;</th><th scope=col>&lt;dbl&gt;</th></tr>\n",
       "</thead>\n",
       "<tbody>\n",
       "\t<tr><th scope=row>MT12</th><td>10.571429</td><td> 6.261905</td><td>268.85714</td><td> 4.666667</td><td>0.3826790</td></tr>\n",
       "\t<tr><th scope=row>MT13</th><td> 0.000000</td><td> 8.283333</td><td> 30.21667</td><td> 4.583333</td><td>0.3826790</td></tr>\n",
       "\t<tr><th scope=row>MT15</th><td>11.171429</td><td>10.028571</td><td>247.00000</td><td> 8.114286</td><td>4.5152363</td></tr>\n",
       "\t<tr><th scope=row>MT16</th><td> 4.980392</td><td> 8.029412</td><td>100.88235</td><td> 7.156863</td><td>0.8644403</td></tr>\n",
       "\t<tr><th scope=row>MT18</th><td>10.872340</td><td> 3.723404</td><td>158.25532</td><td>14.425532</td><td>3.8847311</td></tr>\n",
       "</tbody>\n",
       "</table>\n"
      ],
      "text/latex": [
       "A data.frame: 5 × 5\n",
       "\\begin{tabular}{r|lllll}\n",
       "  & AlphaLactose & Arachidonicacid & Benzoicacid & BetaAlanine & C10\\\\\n",
       "  & <dbl> & <dbl> & <dbl> & <dbl> & <dbl>\\\\\n",
       "\\hline\n",
       "\tMT12 & 10.571429 &  6.261905 & 268.85714 &  4.666667 & 0.3826790\\\\\n",
       "\tMT13 &  0.000000 &  8.283333 &  30.21667 &  4.583333 & 0.3826790\\\\\n",
       "\tMT15 & 11.171429 & 10.028571 & 247.00000 &  8.114286 & 4.5152363\\\\\n",
       "\tMT16 &  4.980392 &  8.029412 & 100.88235 &  7.156863 & 0.8644403\\\\\n",
       "\tMT18 & 10.872340 &  3.723404 & 158.25532 & 14.425532 & 3.8847311\\\\\n",
       "\\end{tabular}\n"
      ],
      "text/markdown": [
       "\n",
       "A data.frame: 5 × 5\n",
       "\n",
       "| <!--/--> | AlphaLactose &lt;dbl&gt; | Arachidonicacid &lt;dbl&gt; | Benzoicacid &lt;dbl&gt; | BetaAlanine &lt;dbl&gt; | C10 &lt;dbl&gt; |\n",
       "|---|---|---|---|---|---|\n",
       "| MT12 | 10.571429 |  6.261905 | 268.85714 |  4.666667 | 0.3826790 |\n",
       "| MT13 |  0.000000 |  8.283333 |  30.21667 |  4.583333 | 0.3826790 |\n",
       "| MT15 | 11.171429 | 10.028571 | 247.00000 |  8.114286 | 4.5152363 |\n",
       "| MT16 |  4.980392 |  8.029412 | 100.88235 |  7.156863 | 0.8644403 |\n",
       "| MT18 | 10.872340 |  3.723404 | 158.25532 | 14.425532 | 3.8847311 |\n",
       "\n"
      ],
      "text/plain": [
       "     AlphaLactose Arachidonicacid Benzoicacid BetaAlanine C10      \n",
       "MT12 10.571429     6.261905       268.85714    4.666667   0.3826790\n",
       "MT13  0.000000     8.283333        30.21667    4.583333   0.3826790\n",
       "MT15 11.171429    10.028571       247.00000    8.114286   4.5152363\n",
       "MT16  4.980392     8.029412       100.88235    7.156863   0.8644403\n",
       "MT18 10.872340     3.723404       158.25532   14.425532   3.8847311"
      ]
     },
     "metadata": {},
     "output_type": "display_data"
    }
   ],
   "source": [
    "merged123_imp<-read.csv('imputed123_val.csv')\n",
    "rownames(merged123_imp)<-merged123_imp[,1]\n",
    "merged123_imp<-merged123_imp[,-1]\n",
    "merged123_imp[1:5,1:5]"
   ]
  },
  {
   "cell_type": "code",
   "execution_count": 12,
   "id": "6ec1b5f0",
   "metadata": {},
   "outputs": [
    {
     "data": {
      "text/html": [
       "<style>\n",
       ".list-inline {list-style: none; margin:0; padding: 0}\n",
       ".list-inline>li {display: inline-block}\n",
       ".list-inline>li:not(:last-child)::after {content: \"\\00b7\"; padding: 0 .5ex}\n",
       "</style>\n",
       "<ol class=list-inline><li>87</li><li>185</li></ol>\n"
      ],
      "text/latex": [
       "\\begin{enumerate*}\n",
       "\\item 87\n",
       "\\item 185\n",
       "\\end{enumerate*}\n"
      ],
      "text/markdown": [
       "1. 87\n",
       "2. 185\n",
       "\n",
       "\n"
      ],
      "text/plain": [
       "[1]  87 185"
      ]
     },
     "metadata": {},
     "output_type": "display_data"
    },
    {
     "data": {
      "text/html": [
       "87"
      ],
      "text/latex": [
       "87"
      ],
      "text/markdown": [
       "87"
      ],
      "text/plain": [
       "[1] 87"
      ]
     },
     "metadata": {},
     "output_type": "display_data"
    }
   ],
   "source": [
    "dim(merged123_imp)\n",
    "sum(complete.cases(merged123_imp))\n",
    "#Correct 87 185; 87"
   ]
  },
  {
   "cell_type": "code",
   "execution_count": 21,
   "id": "b44ddf7c",
   "metadata": {},
   "outputs": [],
   "source": [
    "meta_pd = read.csv(\"/nfs/dcmb-lgarmire/yhdu/COBRE Final Documents/meta_analysis/3batch_clinical_combined.csv\")\n",
    "rownames(meta_pd) = meta_pd$ID\n",
    "meta_pd<-meta_pd[rownames(merged123_imp),]"
   ]
  },
  {
   "cell_type": "code",
   "execution_count": 23,
   "id": "6b4d631e",
   "metadata": {
    "scrolled": true
   },
   "outputs": [
    {
     "data": {
      "text/html": [
       "<style>\n",
       ".list-inline {list-style: none; margin:0; padding: 0}\n",
       ".list-inline>li {display: inline-block}\n",
       ".list-inline>li:not(:last-child)::after {content: \"\\00b7\"; padding: 0 .5ex}\n",
       "</style>\n",
       "<ol class=list-inline><li>'MT12'</li><li>'MT13'</li><li>'MT15'</li><li>'MT16'</li><li>'MT18'</li><li>'MT19'</li><li>'MT20'</li><li>'MT22'</li><li>'MT23'</li><li>'MT24'</li><li>'MT25'</li><li>'MT26'</li><li>'MT27'</li><li>'MT28'</li><li>'MT29'</li><li>'MT30'</li><li>'MT31'</li><li>'MT32'</li><li>'MT33'</li><li>'MT34'</li><li>'MT35'</li><li>'MT36'</li><li>'MT38'</li><li>'MT39'</li><li>'MT40'</li><li>'MT41'</li><li>'MT42'</li><li>'MT43'</li><li>'MT44'</li><li>'MT45'</li><li>'MT49'</li><li>'MT50'</li><li>'MT51'</li><li>'MT52'</li><li>'MT53'</li><li>'MT54'</li><li>'MT55'</li><li>'MT56'</li><li>'MT57'</li><li>'MT58'</li><li>'MT59'</li><li>'MT60'</li><li>'MT61'</li><li>'MT62'</li><li>'MT63'</li><li>'MT64'</li><li>'MT65'</li><li>'MT66'</li><li>'MT67'</li><li>'MT68'</li><li>'MT69'</li><li>'MT73'</li><li>'MT74'</li><li>'MT75'</li><li>'MT76'</li><li>'MT77'</li><li>'MT78'</li><li>'MT100'</li><li>'MT101'</li><li>'MT102'</li><li>'MT103'</li><li>'MT104'</li><li>'MT105'</li><li>'MT106'</li><li>'MT107'</li><li>'MT110'</li><li>'MT111'</li><li>'MT65_rep'</li><li>'MT70'</li><li>'MT71'</li><li>'MT72'</li><li>'MT79'</li><li>'MT80'</li><li>'MT81'</li><li>'MT82'</li><li>'MT83'</li><li>'MT84'</li><li>'MT85'</li><li>'MT86'</li><li>'MT87'</li><li>'MT88'</li><li>'MT89'</li><li>'MT90'</li><li>'MT91'</li><li>'MT92'</li><li>'MT93'</li><li>'MT94'</li></ol>\n"
      ],
      "text/latex": [
       "\\begin{enumerate*}\n",
       "\\item 'MT12'\n",
       "\\item 'MT13'\n",
       "\\item 'MT15'\n",
       "\\item 'MT16'\n",
       "\\item 'MT18'\n",
       "\\item 'MT19'\n",
       "\\item 'MT20'\n",
       "\\item 'MT22'\n",
       "\\item 'MT23'\n",
       "\\item 'MT24'\n",
       "\\item 'MT25'\n",
       "\\item 'MT26'\n",
       "\\item 'MT27'\n",
       "\\item 'MT28'\n",
       "\\item 'MT29'\n",
       "\\item 'MT30'\n",
       "\\item 'MT31'\n",
       "\\item 'MT32'\n",
       "\\item 'MT33'\n",
       "\\item 'MT34'\n",
       "\\item 'MT35'\n",
       "\\item 'MT36'\n",
       "\\item 'MT38'\n",
       "\\item 'MT39'\n",
       "\\item 'MT40'\n",
       "\\item 'MT41'\n",
       "\\item 'MT42'\n",
       "\\item 'MT43'\n",
       "\\item 'MT44'\n",
       "\\item 'MT45'\n",
       "\\item 'MT49'\n",
       "\\item 'MT50'\n",
       "\\item 'MT51'\n",
       "\\item 'MT52'\n",
       "\\item 'MT53'\n",
       "\\item 'MT54'\n",
       "\\item 'MT55'\n",
       "\\item 'MT56'\n",
       "\\item 'MT57'\n",
       "\\item 'MT58'\n",
       "\\item 'MT59'\n",
       "\\item 'MT60'\n",
       "\\item 'MT61'\n",
       "\\item 'MT62'\n",
       "\\item 'MT63'\n",
       "\\item 'MT64'\n",
       "\\item 'MT65'\n",
       "\\item 'MT66'\n",
       "\\item 'MT67'\n",
       "\\item 'MT68'\n",
       "\\item 'MT69'\n",
       "\\item 'MT73'\n",
       "\\item 'MT74'\n",
       "\\item 'MT75'\n",
       "\\item 'MT76'\n",
       "\\item 'MT77'\n",
       "\\item 'MT78'\n",
       "\\item 'MT100'\n",
       "\\item 'MT101'\n",
       "\\item 'MT102'\n",
       "\\item 'MT103'\n",
       "\\item 'MT104'\n",
       "\\item 'MT105'\n",
       "\\item 'MT106'\n",
       "\\item 'MT107'\n",
       "\\item 'MT110'\n",
       "\\item 'MT111'\n",
       "\\item 'MT65\\_rep'\n",
       "\\item 'MT70'\n",
       "\\item 'MT71'\n",
       "\\item 'MT72'\n",
       "\\item 'MT79'\n",
       "\\item 'MT80'\n",
       "\\item 'MT81'\n",
       "\\item 'MT82'\n",
       "\\item 'MT83'\n",
       "\\item 'MT84'\n",
       "\\item 'MT85'\n",
       "\\item 'MT86'\n",
       "\\item 'MT87'\n",
       "\\item 'MT88'\n",
       "\\item 'MT89'\n",
       "\\item 'MT90'\n",
       "\\item 'MT91'\n",
       "\\item 'MT92'\n",
       "\\item 'MT93'\n",
       "\\item 'MT94'\n",
       "\\end{enumerate*}\n"
      ],
      "text/markdown": [
       "1. 'MT12'\n",
       "2. 'MT13'\n",
       "3. 'MT15'\n",
       "4. 'MT16'\n",
       "5. 'MT18'\n",
       "6. 'MT19'\n",
       "7. 'MT20'\n",
       "8. 'MT22'\n",
       "9. 'MT23'\n",
       "10. 'MT24'\n",
       "11. 'MT25'\n",
       "12. 'MT26'\n",
       "13. 'MT27'\n",
       "14. 'MT28'\n",
       "15. 'MT29'\n",
       "16. 'MT30'\n",
       "17. 'MT31'\n",
       "18. 'MT32'\n",
       "19. 'MT33'\n",
       "20. 'MT34'\n",
       "21. 'MT35'\n",
       "22. 'MT36'\n",
       "23. 'MT38'\n",
       "24. 'MT39'\n",
       "25. 'MT40'\n",
       "26. 'MT41'\n",
       "27. 'MT42'\n",
       "28. 'MT43'\n",
       "29. 'MT44'\n",
       "30. 'MT45'\n",
       "31. 'MT49'\n",
       "32. 'MT50'\n",
       "33. 'MT51'\n",
       "34. 'MT52'\n",
       "35. 'MT53'\n",
       "36. 'MT54'\n",
       "37. 'MT55'\n",
       "38. 'MT56'\n",
       "39. 'MT57'\n",
       "40. 'MT58'\n",
       "41. 'MT59'\n",
       "42. 'MT60'\n",
       "43. 'MT61'\n",
       "44. 'MT62'\n",
       "45. 'MT63'\n",
       "46. 'MT64'\n",
       "47. 'MT65'\n",
       "48. 'MT66'\n",
       "49. 'MT67'\n",
       "50. 'MT68'\n",
       "51. 'MT69'\n",
       "52. 'MT73'\n",
       "53. 'MT74'\n",
       "54. 'MT75'\n",
       "55. 'MT76'\n",
       "56. 'MT77'\n",
       "57. 'MT78'\n",
       "58. 'MT100'\n",
       "59. 'MT101'\n",
       "60. 'MT102'\n",
       "61. 'MT103'\n",
       "62. 'MT104'\n",
       "63. 'MT105'\n",
       "64. 'MT106'\n",
       "65. 'MT107'\n",
       "66. 'MT110'\n",
       "67. 'MT111'\n",
       "68. 'MT65_rep'\n",
       "69. 'MT70'\n",
       "70. 'MT71'\n",
       "71. 'MT72'\n",
       "72. 'MT79'\n",
       "73. 'MT80'\n",
       "74. 'MT81'\n",
       "75. 'MT82'\n",
       "76. 'MT83'\n",
       "77. 'MT84'\n",
       "78. 'MT85'\n",
       "79. 'MT86'\n",
       "80. 'MT87'\n",
       "81. 'MT88'\n",
       "82. 'MT89'\n",
       "83. 'MT90'\n",
       "84. 'MT91'\n",
       "85. 'MT92'\n",
       "86. 'MT93'\n",
       "87. 'MT94'\n",
       "\n",
       "\n"
      ],
      "text/plain": [
       " [1] \"MT12\"     \"MT13\"     \"MT15\"     \"MT16\"     \"MT18\"     \"MT19\"    \n",
       " [7] \"MT20\"     \"MT22\"     \"MT23\"     \"MT24\"     \"MT25\"     \"MT26\"    \n",
       "[13] \"MT27\"     \"MT28\"     \"MT29\"     \"MT30\"     \"MT31\"     \"MT32\"    \n",
       "[19] \"MT33\"     \"MT34\"     \"MT35\"     \"MT36\"     \"MT38\"     \"MT39\"    \n",
       "[25] \"MT40\"     \"MT41\"     \"MT42\"     \"MT43\"     \"MT44\"     \"MT45\"    \n",
       "[31] \"MT49\"     \"MT50\"     \"MT51\"     \"MT52\"     \"MT53\"     \"MT54\"    \n",
       "[37] \"MT55\"     \"MT56\"     \"MT57\"     \"MT58\"     \"MT59\"     \"MT60\"    \n",
       "[43] \"MT61\"     \"MT62\"     \"MT63\"     \"MT64\"     \"MT65\"     \"MT66\"    \n",
       "[49] \"MT67\"     \"MT68\"     \"MT69\"     \"MT73\"     \"MT74\"     \"MT75\"    \n",
       "[55] \"MT76\"     \"MT77\"     \"MT78\"     \"MT100\"    \"MT101\"    \"MT102\"   \n",
       "[61] \"MT103\"    \"MT104\"    \"MT105\"    \"MT106\"    \"MT107\"    \"MT110\"   \n",
       "[67] \"MT111\"    \"MT65_rep\" \"MT70\"     \"MT71\"     \"MT72\"     \"MT79\"    \n",
       "[73] \"MT80\"     \"MT81\"     \"MT82\"     \"MT83\"     \"MT84\"     \"MT85\"    \n",
       "[79] \"MT86\"     \"MT87\"     \"MT88\"     \"MT89\"     \"MT90\"     \"MT91\"    \n",
       "[85] \"MT92\"     \"MT93\"     \"MT94\"    "
      ]
     },
     "metadata": {},
     "output_type": "display_data"
    }
   ],
   "source": [
    "rownames(meta_pd)"
   ]
  },
  {
   "cell_type": "code",
   "execution_count": 27,
   "id": "614ff9b9",
   "metadata": {},
   "outputs": [
    {
     "data": {
      "image/png": "[encoded data removed]",
      "text/plain": [
       "plot without title"
      ]
     },
     "metadata": {
      "image/png": {
       "height": 420,
       "width": 420
      }
     },
     "output_type": "display_data"
    }
   ],
   "source": [
    "# #meta_pd_noout = meta_pd[meta_pd$Name!='MT106',]\n",
    "# # Filter out an outlier? And why\n",
    "# ClinicalInformation<-readRDS(\"ClinicalInformation_05_28.rds\")\n",
    "# pca_res <- prcomp(merged123_imp, scale. = TRUE)\n",
    "# autoplot(pca_res, data = ClinicalInformation, colour = 'chip')+ggtitle('before combat')\n",
    "# # Before PCA, scale the data so that large number would not dominate the variance\n",
    "# #Do the pca"
   ]
  },
  {
   "cell_type": "code",
   "execution_count": 28,
   "id": "4e805cd1",
   "metadata": {},
   "outputs": [
    {
     "name": "stderr",
     "output_type": "stream",
     "text": [
      "Loading required package: lattice\n",
      "\n",
      "Registered S3 methods overwritten by 'caret':\n",
      "  method        from    \n",
      "  predict.plsda mdatools\n",
      "  print.plsda   mdatools\n",
      "\n",
      "\n",
      "Attaching package: ‘caret’\n",
      "\n",
      "\n",
      "The following object is masked from ‘package:mdatools’:\n",
      "\n",
      "    plsda\n",
      "\n",
      "\n",
      "\n",
      "Attaching package: ‘limma’\n",
      "\n",
      "\n",
      "The following object is masked from ‘package:BiocGenerics’:\n",
      "\n",
      "    plotMA\n",
      "\n",
      "\n"
     ]
    }
   ],
   "source": [
    "#merged123_imp_nooutlier_log = log2(merged123_imp_nooutlier+1)\n",
    "merged123_imp_log=log2(merged123_imp+1)\n",
    "#Common practice, since some of the data in the count matrix could involve 0, add 1 to avoid such information\n",
    "merged123_imp_log_stand=prep.autoscale((merged123_imp_log),center=TRUE,scale=TRUE)\n",
    "#merged_123_imp_norm = normalize.quantiles(as.matrix(t(merged123_imp_nooutlier)))\n",
    "library(caret)\n",
    "library(limma)\n",
    "#ngenes*narrays\n",
    "merged_123_imp_norm_vsn = normalizeVSN(as.matrix(t(merged123_imp))) \n",
    "# Said to be able to do the log and standardization itself\n"
   ]
  },
  {
   "cell_type": "code",
   "execution_count": null,
   "id": "9842b85d",
   "metadata": {},
   "outputs": [],
   "source": [
    "pheno = meta_pd\n",
    "#edata = merged_123_imp_quantile\n",
    "edata = merged_123_imp_norm_vsn\n",
    "dim(edata)\n",
    "#edata = merged_123_imp_norm_pqn\n",
    "batch = pheno$Batch\n",
    "mod = model.matrix(~as.factor(Group), data=pheno)\n",
    "mod2 = model.matrix(~ as.factor(Group),\n",
    "                      data = inter_pd_meta_comp2)\n",
    "\n",
    "# reference-batch version, with covariates\n",
    "combat_edata3_vsn = ComBat(dat=(edata), batch=batch, mod=mod, par.prior=TRUE)\n",
    "#Use this one\n",
    "# combat_edata3_vsn_alotmod = ComBat(dat=(edata),batch=batch,mod=NULL, par.prior=TRUE)\n",
    "# saveRDS(t(combat_edata3_vsn),'/nfs/dcmb-lgarmire/johntao/cordblood/META_3BATCH_NOOUT_log_stand_vsn_COMBAT.RDS')\n",
    "# saveRDS(t(combat_edata3_vsn_alotmod),'/nfs/dcmb-lgarmire/johntao/cordblood/tlytry_COMBAT_vsn_alotmod.rds')"
   ]
  }
 ],
 "metadata": {
  "kernelspec": {
   "display_name": "R",
   "language": "R",
   "name": "ir"
  },
  "language_info": {
   "codemirror_mode": "r",
   "file_extension": ".r",
   "mimetype": "text/x-r-source",
   "name": "R",
   "pygments_lexer": "r",
   "version": "4.3.2"
  }
 },
 "nbformat": 4,
 "nbformat_minor": 5
}
