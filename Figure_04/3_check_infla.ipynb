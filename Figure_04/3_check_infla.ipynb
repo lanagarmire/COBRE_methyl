{
 "cells": [
  {
   "cell_type": "code",
   "execution_count": 2,
   "id": "9960223f-812d-427c-a4ea-7234ba26f864",
   "metadata": {},
   "outputs": [],
   "source": [
    "library(org.Hs.eg.db)\n",
    "library(AnnotationDbi)\n",
    "library(ggplot2)\n",
    "library(lumi)\n",
    "library(missMethyl)\n",
    "library(ggridges)"
   ]
  },
  {
   "cell_type": "code",
   "execution_count": 23,
   "id": "af05362d-c347-426e-a5bb-dca53ac6b35a",
   "metadata": {},
   "outputs": [],
   "source": [
    "library(reshape2)"
   ]
  },
  {
   "cell_type": "code",
   "execution_count": 3,
   "id": "b8504b25-903d-4e59-8998-4970c5cdc834",
   "metadata": {},
   "outputs": [],
   "source": [
    "cobre_beta = readRDS(\"/nfs/dcmb-lgarmire/yhdu/COBRE Final Documents/Figure 1 Differential analysis/cobre_beta.rds\")\n",
    "cobre_pd = readRDS(\"/nfs/dcmb-lgarmire/yhdu/COBRE Final Documents/Figure 1 Differential analysis/cobre_pd.rds\")\n",
    "anno = readRDS(\"/nfs/dcmb-lgarmire/yhdu/COBRE Final Documents/Figure 1 Differential analysis/anno_450k.rds\")"
   ]
  },
  {
   "cell_type": "code",
   "execution_count": 12,
   "id": "4e54eb63-b782-4c09-b35c-9fc62861e357",
   "metadata": {},
   "outputs": [],
   "source": [
    "infla_genes = read.csv('infla_genes.csv',header=FALSE)"
   ]
  },
  {
   "cell_type": "code",
   "execution_count": 14,
   "id": "e42c6646-620d-4153-9232-6d77adc2e9f5",
   "metadata": {},
   "outputs": [],
   "source": [
    "anno = as.data.frame(anno)"
   ]
  },
  {
   "cell_type": "code",
   "execution_count": 15,
   "id": "6aa124cc-72fd-4c77-9aa3-42ad4a5e9745",
   "metadata": {},
   "outputs": [],
   "source": [
    "infla_cpg = anno[anno$UCSC_RefGene_Name%in%infla_genes$V1,]"
   ]
  },
  {
   "cell_type": "code",
   "execution_count": 18,
   "id": "9431d5d6-e66d-4a9d-9969-6d0feb2847a9",
   "metadata": {},
   "outputs": [],
   "source": [
    "infla_cpg_promoter = infla_cpg[infla_cpg$UCSC_RefGene_Group%in%c('TSS200','TSS1500'),]"
   ]
  },
  {
   "cell_type": "code",
   "execution_count": 19,
   "id": "b849782d-e8b9-4dfb-80ef-5e568ad5dd27",
   "metadata": {},
   "outputs": [
    {
     "data": {
      "text/html": [
       "<style>\n",
       ".list-inline {list-style: none; margin:0; padding: 0}\n",
       ".list-inline>li {display: inline-block}\n",
       ".list-inline>li:not(:last-child)::after {content: \"\\00b7\"; padding: 0 .5ex}\n",
       "</style>\n",
       "<ol class=list-inline><li>1158</li><li>3</li></ol>\n"
      ],
      "text/latex": [
       "\\begin{enumerate*}\n",
       "\\item 1158\n",
       "\\item 3\n",
       "\\end{enumerate*}\n"
      ],
      "text/markdown": [
       "1. 1158\n",
       "2. 3\n",
       "\n",
       "\n"
      ],
      "text/plain": [
       "[1] 1158    3"
      ]
     },
     "metadata": {},
     "output_type": "display_data"
    },
    {
     "data": {
      "text/html": [
       "<table class=\"dataframe\">\n",
       "<caption>A data.frame: 5 × 3</caption>\n",
       "<thead>\n",
       "\t<tr><th></th><th scope=col>Name</th><th scope=col>UCSC_RefGene_Name</th><th scope=col>UCSC_RefGene_Group</th></tr>\n",
       "\t<tr><th></th><th scope=col>&lt;chr&gt;</th><th scope=col>&lt;chr&gt;</th><th scope=col>&lt;chr&gt;</th></tr>\n",
       "</thead>\n",
       "<tbody>\n",
       "\t<tr><th scope=row>cg07816287</th><td>cg07816287</td><td>GPC3</td><td>TSS200 </td></tr>\n",
       "\t<tr><th scope=row>cg16272791</th><td>cg16272791</td><td>GPC3</td><td>TSS1500</td></tr>\n",
       "\t<tr><th scope=row>cg23837911</th><td>cg23837911</td><td>GPC3</td><td>TSS200 </td></tr>\n",
       "\t<tr><th scope=row>cg00305374</th><td>cg00305374</td><td>F3  </td><td>TSS200 </td></tr>\n",
       "\t<tr><th scope=row>cg00545681</th><td>cg00545681</td><td>F3  </td><td>TSS1500</td></tr>\n",
       "</tbody>\n",
       "</table>\n"
      ],
      "text/latex": [
       "A data.frame: 5 × 3\n",
       "\\begin{tabular}{r|lll}\n",
       "  & Name & UCSC\\_RefGene\\_Name & UCSC\\_RefGene\\_Group\\\\\n",
       "  & <chr> & <chr> & <chr>\\\\\n",
       "\\hline\n",
       "\tcg07816287 & cg07816287 & GPC3 & TSS200 \\\\\n",
       "\tcg16272791 & cg16272791 & GPC3 & TSS1500\\\\\n",
       "\tcg23837911 & cg23837911 & GPC3 & TSS200 \\\\\n",
       "\tcg00305374 & cg00305374 & F3   & TSS200 \\\\\n",
       "\tcg00545681 & cg00545681 & F3   & TSS1500\\\\\n",
       "\\end{tabular}\n"
      ],
      "text/markdown": [
       "\n",
       "A data.frame: 5 × 3\n",
       "\n",
       "| <!--/--> | Name &lt;chr&gt; | UCSC_RefGene_Name &lt;chr&gt; | UCSC_RefGene_Group &lt;chr&gt; |\n",
       "|---|---|---|---|\n",
       "| cg07816287 | cg07816287 | GPC3 | TSS200  |\n",
       "| cg16272791 | cg16272791 | GPC3 | TSS1500 |\n",
       "| cg23837911 | cg23837911 | GPC3 | TSS200  |\n",
       "| cg00305374 | cg00305374 | F3   | TSS200  |\n",
       "| cg00545681 | cg00545681 | F3   | TSS1500 |\n",
       "\n"
      ],
      "text/plain": [
       "           Name       UCSC_RefGene_Name UCSC_RefGene_Group\n",
       "cg07816287 cg07816287 GPC3              TSS200            \n",
       "cg16272791 cg16272791 GPC3              TSS1500           \n",
       "cg23837911 cg23837911 GPC3              TSS200            \n",
       "cg00305374 cg00305374 F3                TSS200            \n",
       "cg00545681 cg00545681 F3                TSS1500           "
      ]
     },
     "metadata": {},
     "output_type": "display_data"
    }
   ],
   "source": [
    "dim(infla_cpg_promoter)\n",
    "infla_cpg_promoter[1:5,]"
   ]
  },
  {
   "cell_type": "code",
   "execution_count": 20,
   "id": "30ff4c29-d6c4-4dd9-a729-d5bfdc431de5",
   "metadata": {},
   "outputs": [
    {
     "data": {
      "text/html": [
       "<style>\n",
       ".list-inline {list-style: none; margin:0; padding: 0}\n",
       ".list-inline>li {display: inline-block}\n",
       ".list-inline>li:not(:last-child)::after {content: \"\\00b7\"; padding: 0 .5ex}\n",
       "</style>\n",
       "<ol class=list-inline><li>1078</li><li>72</li></ol>\n"
      ],
      "text/latex": [
       "\\begin{enumerate*}\n",
       "\\item 1078\n",
       "\\item 72\n",
       "\\end{enumerate*}\n"
      ],
      "text/markdown": [
       "1. 1078\n",
       "2. 72\n",
       "\n",
       "\n"
      ],
      "text/plain": [
       "[1] 1078   72"
      ]
     },
     "metadata": {},
     "output_type": "display_data"
    }
   ],
   "source": [
    "cobre_beta_infla = cobre_beta[rownames(cobre_beta)%in%rownames(infla_cpg_promoter),]\n",
    "dim(cobre_beta_infla)"
   ]
  },
  {
   "cell_type": "code",
   "execution_count": 41,
   "id": "1ebb4753-ee2d-448d-9d29-21cd8e5d03b0",
   "metadata": {},
   "outputs": [],
   "source": [
    "cobre_beta_immune_control = cobre_beta_infla[,cobre_pd[cobre_pd$Sample_Group=='control',]$Sample_Name]\n",
    "cobre_beta_immune_obese = cobre_beta_infla[,cobre_pd[cobre_pd$Sample_Group=='obese',]$Sample_Name]\n",
    "control_immune_mean = colMeans(cobre_beta_immune_control)\n",
    "obese_immune_mean = colMeans(cobre_beta_immune_obese)"
   ]
  },
  {
   "cell_type": "code",
   "execution_count": 44,
   "id": "e905c93f-6ce9-4a24-9d2b-c935f2e5dfd9",
   "metadata": {},
   "outputs": [],
   "source": [
    "control_immune_df = cbind(control_immune_mean,rep('control',length(control_immune_mean)))\n",
    "colnames(control_immune_df) = c('Mean_beta','Group')\n",
    "obese_immune_df = cbind(obese_immune_mean,rep('obese',length(obese_immune_mean)))\n",
    "colnames(obese_immune_df) = c('Mean_beta','Group')\n",
    "immune_cpg = as.data.frame(rbind(control_immune_df,obese_immune_df))\n",
    "immune_cpg$Mean_beta = as.numeric(immune_cpg$Mean_beta)"
   ]
  },
  {
   "cell_type": "code",
   "execution_count": 45,
   "id": "d2121616-03b1-4844-91aa-bfda917eb549",
   "metadata": {},
   "outputs": [
    {
     "data": {
      "text/plain": [
       "\n",
       "\tWilcoxon rank sum exact test\n",
       "\n",
       "data:  control_immune_mean and obese_immune_mean\n",
       "W = 482, p-value = 0.06492\n",
       "alternative hypothesis: true location shift is not equal to 0\n"
      ]
     },
     "metadata": {},
     "output_type": "display_data"
    }
   ],
   "source": [
    "wilcox.test(control_immune_mean,obese_immune_mean)"
   ]
  },
  {
   "cell_type": "code",
   "execution_count": 48,
   "id": "5fd75aa2-c09b-47f6-9800-c9af05d3c3d6",
   "metadata": {},
   "outputs": [],
   "source": [
    "plot_inflam = ggplot(immune_cpg, aes(x = Group, y = Mean_beta, fill = Group)) +\n",
    "  geom_violin(trim = FALSE) +\n",
    "  labs(title = \"Inflammation methylation score\\n(Wilcox P = 0.0649)\",\n",
    "       x = \"Group\",\n",
    "       y = \"Mean Beta Value\") +\n",
    "  theme_minimal() +\n",
    "    stat_summary(fun.data = \"mean_cl_boot\", geom = \"crossbar\",\n",
    "               colour = \"black\", width = 0.2)"
   ]
  },
  {
   "cell_type": "code",
   "execution_count": 49,
   "id": "ff50cbb7-1c64-4116-8a06-84b0049ab0ff",
   "metadata": {},
   "outputs": [
    {
     "data": {
      "text/html": [
       "<strong>png:</strong> 2"
      ],
      "text/latex": [
       "\\textbf{png:} 2"
      ],
      "text/markdown": [
       "**png:** 2"
      ],
      "text/plain": [
       "png \n",
       "  2 "
      ]
     },
     "metadata": {},
     "output_type": "display_data"
    }
   ],
   "source": [
    "png('plot_inflam.png',width=4,height=3,unit='in',res=300)\n",
    "plot_inflam\n",
    "dev.off()"
   ]
  }
 ],
 "metadata": {
  "kernelspec": {
   "display_name": "R",
   "language": "R",
   "name": "ir"
  },
  "language_info": {
   "codemirror_mode": "r",
   "file_extension": ".r",
   "mimetype": "text/x-r-source",
   "name": "R",
   "pygments_lexer": "r",
   "version": "4.3.2"
  }
 },
 "nbformat": 4,
 "nbformat_minor": 5
}
